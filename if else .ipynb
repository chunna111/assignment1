{
 "cells": [
  {
   "cell_type": "code",
   "execution_count": 1,
   "id": "873cea2d-390e-42d0-b46d-36cb701456e1",
   "metadata": {},
   "outputs": [],
   "source": [
    "d ={}"
   ]
  },
  {
   "cell_type": "code",
   "execution_count": 2,
   "id": "71bb83b3-6493-4780-bc4c-ecc403bb3433",
   "metadata": {},
   "outputs": [
    {
     "data": {
      "text/plain": [
       "dict"
      ]
     },
     "execution_count": 2,
     "metadata": {},
     "output_type": "execute_result"
    }
   ],
   "source": [
    "type(d)"
   ]
  },
  {
   "cell_type": "code",
   "execution_count": 3,
   "id": "1ea9909f-6988-40f1-8a7b-f2e46fd15005",
   "metadata": {},
   "outputs": [],
   "source": [
    "d1 = {'key' : \"sudh\"}"
   ]
  },
  {
   "cell_type": "code",
   "execution_count": 4,
   "id": "190d1d47-a0fa-4cff-ab42-c016d6efb582",
   "metadata": {},
   "outputs": [
    {
     "data": {
      "text/plain": [
       "{'key': 'sudh'}"
      ]
     },
     "execution_count": 4,
     "metadata": {},
     "output_type": "execute_result"
    }
   ],
   "source": [
    "d1"
   ]
  },
  {
   "cell_type": "code",
   "execution_count": 5,
   "id": "00852eab-5b11-4260-9f63-a7c3f0c36e64",
   "metadata": {},
   "outputs": [],
   "source": [
    "d2 = {'name':\"sudhanshu\", \"email\":\"ss@gmail.com\", \"number\" :334534}"
   ]
  },
  {
   "cell_type": "code",
   "execution_count": 6,
   "id": "4fd877a5-a6e0-4158-856b-0a11f73dd84b",
   "metadata": {},
   "outputs": [
    {
     "data": {
      "text/plain": [
       "{'name': 'sudhanshu', 'email': 'ss@gmail.com', 'number': 334534}"
      ]
     },
     "execution_count": 6,
     "metadata": {},
     "output_type": "execute_result"
    }
   ],
   "source": [
    "d2"
   ]
  },
  {
   "cell_type": "code",
   "execution_count": 7,
   "id": "5f1d8874-050a-4fb9-9a85-e57b9ff1faec",
   "metadata": {},
   "outputs": [],
   "source": [
    "d3 = {234 :\"sudh\",'_wer':\"kumar\",True:24234}"
   ]
  },
  {
   "cell_type": "code",
   "execution_count": 8,
   "id": "9e73cbac-069c-446a-88f3-2561cbb75d7a",
   "metadata": {},
   "outputs": [
    {
     "data": {
      "text/plain": [
       "{234: 'sudh', '_wer': 'kumar', True: 24234}"
      ]
     },
     "execution_count": 8,
     "metadata": {},
     "output_type": "execute_result"
    }
   ],
   "source": [
    "d3"
   ]
  },
  {
   "cell_type": "code",
   "execution_count": 10,
   "id": "774f1f51-16c9-43b5-8f75-28b14bedd5da",
   "metadata": {},
   "outputs": [
    {
     "data": {
      "text/plain": [
       "'sudh'"
      ]
     },
     "execution_count": 10,
     "metadata": {},
     "output_type": "execute_result"
    }
   ],
   "source": [
    "d3[234]"
   ]
  },
  {
   "cell_type": "code",
   "execution_count": 11,
   "id": "deb35770-e7d2-4817-a95c-bf8712c1d1b6",
   "metadata": {},
   "outputs": [],
   "source": [
    "d4 = {'name':\"sudh\",'mail_id':\"ss@gmail.com\",\"name\":\"sudhanshu\"}"
   ]
  },
  {
   "cell_type": "code",
   "execution_count": 12,
   "id": "1c42042a-17c5-4eac-a405-51668df8c07d",
   "metadata": {},
   "outputs": [
    {
     "data": {
      "text/plain": [
       "'sudhanshu'"
      ]
     },
     "execution_count": 12,
     "metadata": {},
     "output_type": "execute_result"
    }
   ],
   "source": [
    "d4['name']"
   ]
  },
  {
   "cell_type": "code",
   "execution_count": 13,
   "id": "7d2d8ffc-a327-4510-8a22-e7158375f5a7",
   "metadata": {},
   "outputs": [],
   "source": [
    "d5 ={\"company\" : \"pwskills\" ,\"course\":[\"web dev\",\"data science\",\"java with dsa system design\"]}"
   ]
  },
  {
   "cell_type": "code",
   "execution_count": 14,
   "id": "3b725403-13d5-4258-a23b-8a8ca1ba2487",
   "metadata": {},
   "outputs": [
    {
     "data": {
      "text/plain": [
       "{'company': 'pwskills',\n",
       " 'course': ['web dev', 'data science', 'java with dsa system design']}"
      ]
     },
     "execution_count": 14,
     "metadata": {},
     "output_type": "execute_result"
    }
   ],
   "source": [
    "d5"
   ]
  },
  {
   "cell_type": "code",
   "execution_count": 15,
   "id": "35988cc2-b3a9-42de-b7bb-e9bf94d8280d",
   "metadata": {},
   "outputs": [],
   "source": [
    "d6 = {\"number\" :[2,34,3,34,34],\"assignment\":(1,2,3,4,5,6), \"launch_date\":{28,12,14},\"class_time\":{\"web_dev\":8, \"data science masters\":8,\"java with dsa system design\":7}}"
   ]
  },
  {
   "cell_type": "code",
   "execution_count": 16,
   "id": "b6ab6388-c21d-448d-baf4-c5d1d0f407c1",
   "metadata": {},
   "outputs": [
    {
     "data": {
      "text/plain": [
       "{'number': [2, 34, 3, 34, 34],\n",
       " 'assignment': (1, 2, 3, 4, 5, 6),\n",
       " 'launch_date': {12, 14, 28},\n",
       " 'class_time': {'web_dev': 8,\n",
       "  'data science masters': 8,\n",
       "  'java with dsa system design': 7}}"
      ]
     },
     "execution_count": 16,
     "metadata": {},
     "output_type": "execute_result"
    }
   ],
   "source": [
    "d6"
   ]
  },
  {
   "cell_type": "code",
   "execution_count": 17,
   "id": "0007cd87-55e5-45c0-b16f-05cb6cb52c46",
   "metadata": {},
   "outputs": [],
   "source": [
    "d6['mentor'] = [\"sudhanshu\",\"krish\",\"anurag\",\"hayder\"]"
   ]
  },
  {
   "cell_type": "code",
   "execution_count": 18,
   "id": "0ba9b9cc-32e4-420f-9db4-b5fead1bc0fd",
   "metadata": {},
   "outputs": [
    {
     "data": {
      "text/plain": [
       "{'number': [2, 34, 3, 34, 34],\n",
       " 'assignment': (1, 2, 3, 4, 5, 6),\n",
       " 'launch_date': {12, 14, 28},\n",
       " 'class_time': {'web_dev': 8,\n",
       "  'data science masters': 8,\n",
       "  'java with dsa system design': 7},\n",
       " 'mentor': ['sudhanshu', 'krish', 'anurag', 'hayder']}"
      ]
     },
     "execution_count": 18,
     "metadata": {},
     "output_type": "execute_result"
    }
   ],
   "source": [
    "d6"
   ]
  },
  {
   "cell_type": "code",
   "execution_count": 19,
   "id": "55324ead-8f51-4363-a0d4-4a92588a33d3",
   "metadata": {},
   "outputs": [],
   "source": [
    "del d6['number']"
   ]
  },
  {
   "cell_type": "code",
   "execution_count": 20,
   "id": "266909d2-2223-4fb3-83b1-c7d89437ee5e",
   "metadata": {},
   "outputs": [
    {
     "data": {
      "text/plain": [
       "{'assignment': (1, 2, 3, 4, 5, 6),\n",
       " 'launch_date': {12, 14, 28},\n",
       " 'class_time': {'web_dev': 8,\n",
       "  'data science masters': 8,\n",
       "  'java with dsa system design': 7},\n",
       " 'mentor': ['sudhanshu', 'krish', 'anurag', 'hayder']}"
      ]
     },
     "execution_count": 20,
     "metadata": {},
     "output_type": "execute_result"
    }
   ],
   "source": [
    "d6"
   ]
  },
  {
   "cell_type": "code",
   "execution_count": 22,
   "id": "27bedabf-ba96-4895-8098-ede01ec83527",
   "metadata": {},
   "outputs": [
    {
     "data": {
      "text/plain": [
       "['assignment', 'launch_date', 'class_time', 'mentor']"
      ]
     },
     "execution_count": 22,
     "metadata": {},
     "output_type": "execute_result"
    }
   ],
   "source": [
    "list(d6.keys())"
   ]
  },
  {
   "cell_type": "code",
   "execution_count": 23,
   "id": "e43c6571-0b38-4924-a7b0-c62c39f25897",
   "metadata": {},
   "outputs": [
    {
     "ename": "TypeError",
     "evalue": "pop expected at least 1 argument, got 0",
     "output_type": "error",
     "traceback": [
      "\u001b[0;31m---------------------------------------------------------------------------\u001b[0m",
      "\u001b[0;31mTypeError\u001b[0m                                 Traceback (most recent call last)",
      "Cell \u001b[0;32mIn[23], line 1\u001b[0m\n\u001b[0;32m----> 1\u001b[0m \u001b[43md6\u001b[49m\u001b[38;5;241;43m.\u001b[39;49m\u001b[43mpop\u001b[49m\u001b[43m(\u001b[49m\u001b[43m)\u001b[49m\n",
      "\u001b[0;31mTypeError\u001b[0m: pop expected at least 1 argument, got 0"
     ]
    }
   ],
   "source": [
    "d6.pop()"
   ]
  },
  {
   "cell_type": "code",
   "execution_count": 2,
   "id": "38a87eda-cff5-4c95-a8a1-6a4ef283bfc3",
   "metadata": {},
   "outputs": [
    {
     "name": "stdin",
     "output_type": "stream",
     "text": [
      "enter your marks 55\n"
     ]
    },
    {
     "ename": "TypeError",
     "evalue": "'>=' not supported between instances of 'str' and 'int'",
     "output_type": "error",
     "traceback": [
      "\u001b[0;31m---------------------------------------------------------------------------\u001b[0m",
      "\u001b[0;31mTypeError\u001b[0m                                 Traceback (most recent call last)",
      "Cell \u001b[0;32mIn[2], line 2\u001b[0m\n\u001b[1;32m      1\u001b[0m marks \u001b[38;5;241m=\u001b[39m \u001b[38;5;28minput\u001b[39m (\u001b[38;5;124m\"\u001b[39m\u001b[38;5;124menter your marks\u001b[39m\u001b[38;5;124m\"\u001b[39m)\n\u001b[0;32m----> 2\u001b[0m \u001b[38;5;28;01mif\u001b[39;00m \u001b[43mmarks\u001b[49m\u001b[43m \u001b[49m\u001b[38;5;241;43m>\u001b[39;49m\u001b[38;5;241;43m=\u001b[39;49m\u001b[43m \u001b[49m\u001b[38;5;241;43m80\u001b[39;49m:\n\u001b[1;32m      3\u001b[0m     \u001b[38;5;28mprint\u001b[39m(\u001b[38;5;124m\"\u001b[39m\u001b[38;5;124myou will be a part of A0 batch\u001b[39m\u001b[38;5;124m\"\u001b[39m)\n\u001b[1;32m      4\u001b[0m \u001b[38;5;28;01melif\u001b[39;00m marks \u001b[38;5;241m>\u001b[39m\u001b[38;5;241m=\u001b[39m\u001b[38;5;241m60\u001b[39m \u001b[38;5;129;01mand\u001b[39;00m marks \u001b[38;5;241m<\u001b[39m\u001b[38;5;241m80\u001b[39m:\n",
      "\u001b[0;31mTypeError\u001b[0m: '>=' not supported between instances of 'str' and 'int'"
     ]
    }
   ],
   "source": [
    "marks = input (\"enter your marks\")\n",
    "if marks >= 80:\n",
    "    print(\"you will be a part of A0 batch\")\n",
    "elif marks >=60 and marks <80:\n",
    "    print(\"you will be a part of A1 batch\")    \n",
    "elif marks >= 40 and marks <60:\n",
    "    print(\"you will be a part of A2 batch\")\n",
    "else:\n",
    "    print(\"you will be a part of A3 batch\")"
   ]
  },
  {
   "cell_type": "code",
   "execution_count": 3,
   "id": "d6077d03-e49c-4036-a853-8f56d226bfef",
   "metadata": {},
   "outputs": [
    {
     "data": {
      "text/plain": [
       "False"
      ]
     },
     "execution_count": 3,
     "metadata": {},
     "output_type": "execute_result"
    }
   ],
   "source": [
    "10 >= 80"
   ]
  },
  {
   "cell_type": "code",
   "execution_count": 4,
   "id": "f96b5c51-bbec-4153-b039-5be86b616ad5",
   "metadata": {},
   "outputs": [
    {
     "name": "stdin",
     "output_type": "stream",
     "text": [
      "enter your marks 55\n"
     ]
    }
   ],
   "source": [
    "marks = int(input (\"enter your marks\"))"
   ]
  },
  {
   "cell_type": "code",
   "execution_count": 5,
   "id": "a6837b96-b109-4b6a-8e82-442f27d3eaf6",
   "metadata": {},
   "outputs": [
    {
     "data": {
      "text/plain": [
       "55"
      ]
     },
     "execution_count": 5,
     "metadata": {},
     "output_type": "execute_result"
    }
   ],
   "source": [
    "marks"
   ]
  },
  {
   "cell_type": "code",
   "execution_count": 6,
   "id": "01082578-933e-4d2c-b569-0b1808b070e7",
   "metadata": {},
   "outputs": [
    {
     "data": {
      "text/plain": [
       "int"
      ]
     },
     "execution_count": 6,
     "metadata": {},
     "output_type": "execute_result"
    }
   ],
   "source": [
    "  type(marks)"
   ]
  },
  {
   "cell_type": "code",
   "execution_count": 8,
   "id": "2527a02d-ed51-4224-a6e8-e3e79c88ce48",
   "metadata": {},
   "outputs": [
    {
     "name": "stdin",
     "output_type": "stream",
     "text": [
      "enter price 500\n"
     ]
    },
    {
     "name": "stdout",
     "output_type": "stream",
     "text": [
      "i will purchase\n"
     ]
    }
   ],
   "source": [
    "price = int(input(\"enter price\"))\n",
    "if price > 1000:\n",
    "    print(\"i will not purchase\")\n",
    "else:\n",
    "    print(\"i will purchase\")"
   ]
  },
  {
   "cell_type": "code",
   "execution_count": null,
   "id": "259d8644-4b19-4daa-b98e-cfbb0a28566a",
   "metadata": {},
   "outputs": [],
   "source": [
    "price = int(input(\"enter price\"))\n",
    "if price > 1000:\n",
    "    print(\"i will not purchase\")\n",
    "    if price >5000: \n",
    "        print(\"this is too much\")\n",
    "    elif price <2000:\n",
    "        print(\"its ok\")\n",
    "elif price <1000:\n",
    "    print(\"i will purchase\")\n",
    "else:\n",
    "    print(\"not interested\")  "
   ]
  },
  {
   "cell_type": "code",
   "execution_count": 2,
   "id": "9989480c-993d-4745-a1ec-e95f71f57fcc",
   "metadata": {},
   "outputs": [],
   "source": [
    "l = [1,2,3,4,5,6,7,8]"
   ]
  },
  {
   "cell_type": "code",
   "execution_count": 3,
   "id": "9f40cea5-6e6a-40b5-9382-9ae1756174cd",
   "metadata": {},
   "outputs": [
    {
     "data": {
      "text/plain": [
       "2"
      ]
     },
     "execution_count": 3,
     "metadata": {},
     "output_type": "execute_result"
    }
   ],
   "source": [
    "l[0] +1"
   ]
  },
  {
   "cell_type": "code",
   "execution_count": 4,
   "id": "a0b160c2-1e2b-4292-9032-394ac0c2c691",
   "metadata": {},
   "outputs": [],
   "source": [
    "l1 =[]"
   ]
  },
  {
   "cell_type": "code",
   "execution_count": 6,
   "id": "0fbea033-e386-4610-8240-0b27ffbea76c",
   "metadata": {},
   "outputs": [],
   "source": [
    "l1.append(l[0]+1)"
   ]
  },
  {
   "cell_type": "code",
   "execution_count": 7,
   "id": "519d7a6f-f10f-44d9-bf2b-afe19b276cce",
   "metadata": {},
   "outputs": [
    {
     "data": {
      "text/plain": [
       "[2]"
      ]
     },
     "execution_count": 7,
     "metadata": {},
     "output_type": "execute_result"
    }
   ],
   "source": [
    "l1"
   ]
  },
  {
   "cell_type": "code",
   "execution_count": 8,
   "id": "eabc9d55-65c5-48bc-b660-bb333df79e95",
   "metadata": {},
   "outputs": [],
   "source": [
    "l = [1,2,3,4,5,6,7,8]"
   ]
  },
  {
   "cell_type": "code",
   "execution_count": null,
   "id": "5825a763-4caa-486c-a9d6-d1e34cb540ab",
   "metadata": {},
   "outputs": [],
   "source": [
    "l1 = []\n",
    "for i in l:\n",
    "    print(i+1)\n",
    "    l1.append(i+1)\n",
    "l1"
   ]
  },
  {
   "cell_type": "code",
   "execution_count": null,
   "id": "d5ea4778-ca24-485b-93cc-c72482b0495a",
   "metadata": {},
   "outputs": [],
   "source": []
  },
  {
   "cell_type": "code",
   "execution_count": null,
   "id": "0942152f-d9f8-4ca5-a853-8e093c09aa30",
   "metadata": {},
   "outputs": [],
   "source": []
  }
 ],
 "metadata": {
  "kernelspec": {
   "display_name": "Python 3 (ipykernel)",
   "language": "python",
   "name": "python3"
  },
  "language_info": {
   "codemirror_mode": {
    "name": "ipython",
    "version": 3
   },
   "file_extension": ".py",
   "mimetype": "text/x-python",
   "name": "python",
   "nbconvert_exporter": "python",
   "pygments_lexer": "ipython3",
   "version": "3.10.8"
  }
 },
 "nbformat": 4,
 "nbformat_minor": 5
}
